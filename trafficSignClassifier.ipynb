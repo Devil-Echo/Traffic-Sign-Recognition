{
 "cells": [
  {
   "cell_type": "code",
   "execution_count": 1,
   "id": "fbf6913c",
   "metadata": {},
   "outputs": [],
   "source": [
    "import os\n",
    "import numpy as np\n",
    "import pandas as pd\n",
    "import matplotlib.pyplot as plt\n",
    "import tensorflow as tf\n",
    "from PIL import Image\n",
    "\n",
    "from sklearn.model_selection import train_test_split\n",
    "from keras.utils import to_categorical\n",
    "from keras.models import Sequential\n",
    "from keras.layers import Conv2D, MaxPool2D, Dense, Flatten, Dropout"
   ]
  },
  {
   "cell_type": "code",
   "execution_count": 2,
   "id": "eb9d5e15",
   "metadata": {},
   "outputs": [],
   "source": [
    "data = []\n",
    "labels = []\n",
    "classes = 43\n",
    "\n",
    "cur_path = os.getcwd()\n",
    "\n",
    "#Retrieving the images and their labels \n",
    "\n",
    "for i in range(classes):\n",
    "    path = os.path.join(cur_path,'train',str(i))\n",
    "    images = os.listdir(path)\n",
    "    \n",
    "    for a in images:\n",
    "        try:\n",
    "            image = Image.open(path + '\\\\'+ a)\n",
    "            image = image.resize((30,30))\n",
    "            image = np.array(image)\n",
    "            #sim = Image.fromarray(image)\n",
    "            data.append(image)\n",
    "            labels.append(i)\n",
    "        except:\n",
    "            print(\"Error loading image\")"
   ]
  },
  {
   "cell_type": "code",
   "execution_count": 3,
   "id": "61a22685",
   "metadata": {},
   "outputs": [
    {
     "name": "stdout",
     "output_type": "stream",
     "text": [
      "(39209, 30, 30, 3) (39209,)\n",
      "(31367, 30, 30, 3) (7842, 30, 30, 3) (31367,) (7842,)\n"
     ]
    }
   ],
   "source": [
    "#Converting lists into numpy arrays\n",
    "\n",
    "data = np.array(data)\n",
    "labels = np.array(labels)\n",
    "print(data.shape, labels.shape)\n",
    "\n",
    "#Splitting training and testing dataset\n",
    "\n",
    "X_train, X_test, y_train, y_test = train_test_split(data, labels, test_size=0.2, random_state=42)\n",
    "print(X_train.shape, X_test.shape, y_train.shape, y_test.shape)\n",
    "\n",
    "#Converting the labels into one hot encoding\n",
    "\n",
    "y_train = to_categorical(y_train, 43)\n",
    "y_test = to_categorical(y_test, 43)"
   ]
  },
  {
   "cell_type": "code",
   "execution_count": 6,
   "id": "130a6439",
   "metadata": {},
   "outputs": [],
   "source": [
    "#Building the model\n",
    "\n",
    "model = Sequential()\n",
    "model.add(Conv2D(filters=32, kernel_size=(5,5), activation='relu', input_shape=X_train.shape[1:]))\n",
    "model.add(Conv2D(filters=32, kernel_size=(5,5), activation='relu'))\n",
    "model.add(MaxPool2D(pool_size=(2, 2)))\n",
    "model.add(Dropout(rate=0.25))\n",
    "model.add(Conv2D(filters=64, kernel_size=(3, 3), activation='relu'))\n",
    "model.add(Conv2D(filters=64, kernel_size=(3, 3), activation='relu'))\n",
    "model.add(MaxPool2D(pool_size=(2, 2)))\n",
    "model.add(Dropout(rate=0.25))\n",
    "model.add(Flatten())\n",
    "model.add(Dense(256, activation='relu'))\n",
    "model.add(Dropout(rate=0.5))\n",
    "model.add(Dense(43, activation='softmax'))\n",
    "\n",
    "#Compilation of the model\n",
    "\n",
    "model.compile(loss='categorical_crossentropy', optimizer='adam', metrics=['accuracy'])\n"
   ]
  },
  {
   "cell_type": "code",
   "execution_count": 7,
   "id": "14bc7145",
   "metadata": {},
   "outputs": [
    {
     "name": "stdout",
     "output_type": "stream",
     "text": [
      "Epoch 1/15\n",
      "491/491 [==============================] - 36s 73ms/step - loss: 3.8534 - accuracy: 0.2624 - val_loss: 0.4267 - val_accuracy: 0.8993\n",
      "Epoch 2/15\n",
      "491/491 [==============================] - 37s 74ms/step - loss: 0.7745 - accuracy: 0.7769 - val_loss: 0.1518 - val_accuracy: 0.9649\n",
      "Epoch 3/15\n",
      "491/491 [==============================] - 36s 73ms/step - loss: 0.3868 - accuracy: 0.8906 - val_loss: 0.1110 - val_accuracy: 0.9704\n",
      "Epoch 4/15\n",
      "491/491 [==============================] - 36s 74ms/step - loss: 0.2822 - accuracy: 0.9200 - val_loss: 0.0778 - val_accuracy: 0.9824\n",
      "Epoch 5/15\n",
      "491/491 [==============================] - 38s 77ms/step - loss: 0.2573 - accuracy: 0.9295 - val_loss: 0.0771 - val_accuracy: 0.9813\n",
      "Epoch 6/15\n",
      "491/491 [==============================] - 38s 77ms/step - loss: 0.1963 - accuracy: 0.9463 - val_loss: 0.0429 - val_accuracy: 0.9898\n",
      "Epoch 7/15\n",
      "491/491 [==============================] - 36s 74ms/step - loss: 0.1843 - accuracy: 0.9530 - val_loss: 0.0590 - val_accuracy: 0.9853\n",
      "Epoch 8/15\n",
      "491/491 [==============================] - 36s 74ms/step - loss: 0.1689 - accuracy: 0.9503 - val_loss: 0.0435 - val_accuracy: 0.9894\n",
      "Epoch 9/15\n",
      "491/491 [==============================] - 36s 73ms/step - loss: 0.2090 - accuracy: 0.9457 - val_loss: 0.0369 - val_accuracy: 0.9917\n",
      "Epoch 10/15\n",
      "491/491 [==============================] - 37s 75ms/step - loss: 0.1316 - accuracy: 0.9655 - val_loss: 0.0488 - val_accuracy: 0.9872\n",
      "Epoch 11/15\n",
      "491/491 [==============================] - 35s 71ms/step - loss: 0.1619 - accuracy: 0.9564 - val_loss: 0.0495 - val_accuracy: 0.9887\n",
      "Epoch 12/15\n",
      "491/491 [==============================] - 35s 71ms/step - loss: 0.1291 - accuracy: 0.9643 - val_loss: 0.0315 - val_accuracy: 0.9926\n",
      "Epoch 13/15\n",
      "491/491 [==============================] - 35s 72ms/step - loss: 0.1240 - accuracy: 0.9676 - val_loss: 0.0427 - val_accuracy: 0.9916\n",
      "Epoch 14/15\n",
      "491/491 [==============================] - 36s 73ms/step - loss: 0.1393 - accuracy: 0.9622 - val_loss: 0.0523 - val_accuracy: 0.9866\n",
      "Epoch 15/15\n",
      "491/491 [==============================] - 36s 74ms/step - loss: 0.1357 - accuracy: 0.9639 - val_loss: 0.0367 - val_accuracy: 0.9907\n"
     ]
    }
   ],
   "source": [
    "epochs = 15\n",
    "history = model.fit(X_train, y_train, batch_size=64, epochs=epochs, validation_data=(X_test, y_test))\n",
    "model.save(\"trafficSignModel.h5\")\n"
   ]
  },
  {
   "cell_type": "code",
   "execution_count": 8,
   "id": "fdb8a886",
   "metadata": {},
   "outputs": [
    {
     "data": {
      "image/png": "[encoded data removed]",
      "text/plain": [
       "<Figure size 432x288 with 1 Axes>"
      ]
     },
     "metadata": {
      "needs_background": "light"
     },
     "output_type": "display_data"
    },
    {
     "data": {
      "image/png": "[encoded data removed]",
      "text/plain": [
       "<Figure size 432x288 with 1 Axes>"
      ]
     },
     "metadata": {
      "needs_background": "light"
     },
     "output_type": "display_data"
    }
   ],
   "source": [
    "#plotting graphs for accuracy \n",
    "\n",
    "plt.figure(0)\n",
    "plt.plot(history.history['accuracy'], label='training accuracy')\n",
    "plt.plot(history.history['val_accuracy'], label='val accuracy')\n",
    "plt.title('Accuracy')\n",
    "plt.xlabel('epochs')\n",
    "plt.ylabel('accuracy')\n",
    "plt.legend()\n",
    "plt.show()\n",
    "\n",
    "plt.figure(1)\n",
    "plt.plot(history.history['loss'], label='training loss')\n",
    "plt.plot(history.history['val_loss'], label='val loss')\n",
    "plt.title('Loss')\n",
    "plt.xlabel('epochs')\n",
    "plt.ylabel('loss')\n",
    "plt.legend()\n",
    "plt.show()\n"
   ]
  },
  {
   "cell_type": "code",
   "execution_count": 12,
   "id": "cfae7b6a",
   "metadata": {},
   "outputs": [
    {
     "name": "stderr",
     "output_type": "stream",
     "text": [
      "C:\\Users\\DEBJYOTI\\anaconda3\\lib\\site-packages\\tensorflow\\python\\keras\\engine\\sequential.py:450: UserWarning: `model.predict_classes()` is deprecated and will be removed after 2021-01-01. Please use instead:* `np.argmax(model.predict(x), axis=-1)`,   if your model does multi-class classification   (e.g. if it uses a `softmax` last-layer activation).* `(model.predict(x) > 0.5).astype(\"int32\")`,   if your model does binary classification   (e.g. if it uses a `sigmoid` last-layer activation).\n",
      "  warnings.warn('`model.predict_classes()` is deprecated and '\n"
     ]
    },
    {
     "name": "stdout",
     "output_type": "stream",
     "text": [
      "0.9660332541567695\n"
     ]
    }
   ],
   "source": [
    "#testing accuracy on test dataset\n",
    "\n",
    "from sklearn.metrics import accuracy_score\n",
    "y_test = pd.read_csv('Test.csv')\n",
    "labels = y_test[\"ClassId\"].values\n",
    "imgs = y_test[\"Path\"].values\n",
    "\n",
    "data=[]\n",
    "\n",
    "for img in imgs:\n",
    "    image = Image.open(img)\n",
    "    image = image.resize((30,30))\n",
    "    data.append(np.array(image))\n",
    "    \n",
    "X_test=np.array(data)\n",
    "pred = model.predict_classes(X_test)\n",
    "\n",
    "#Accuracy with the test data\n",
    "\n",
    "from sklearn.metrics import accuracy_score\n",
    "print(accuracy_score(labels, pred))"
   ]
  },
  {
   "cell_type": "code",
   "execution_count": null,
   "id": "f380859e",
   "metadata": {},
   "outputs": [],
   "source": []
  }
 ],
 "metadata": {
  "kernelspec": {
   "display_name": "Python 3",
   "language": "python",
   "name": "python3"
  },
  "language_info": {
   "codemirror_mode": {
    "name": "ipython",
    "version": 3
   },
   "file_extension": ".py",
   "mimetype": "text/x-python",
   "name": "python",
   "nbconvert_exporter": "python",
   "pygments_lexer": "ipython3",
   "version": "3.8.5"
  }
 },
 "nbformat": 4,
 "nbformat_minor": 5
}
